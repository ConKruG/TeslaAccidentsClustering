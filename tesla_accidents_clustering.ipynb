{
 "cells": [
  {
   "cell_type": "markdown",
   "metadata": {},
   "source": [
    "# Reading the dataset into a Panda DataFrame and coverting it to a list"
   ]
  },
  {
   "cell_type": "code",
   "execution_count": 1,
   "metadata": {
    "slideshow": {
     "slide_type": "-"
    }
   },
   "outputs": [],
   "source": [
    "#Authors: Arash N. Kia, Finbarr Murphy\n",
    "#KBS, UL\n",
    "#January 2020\n",
    "\n",
    "import pandas as pd\n",
    "\n",
    "dataset = pd.read_csv('/home/freeze/CAV/tesla_accident_desc.csv')\n",
    "\n",
    "descriptions = list(dataset['Description'])\n"
   ]
  },
  {
   "cell_type": "markdown",
   "metadata": {},
   "source": [
    "# Lemmatizing the description feature"
   ]
  },
  {
   "cell_type": "code",
   "execution_count": 2,
   "metadata": {},
   "outputs": [],
   "source": [
    "import nltk\n",
    "from nltk.corpus import wordnet\n",
    "\n",
    "lmtzr = nltk.WordNetLemmatizer().lemmatize\n",
    "\n",
    "\n",
    "def get_wordnet_pos(treebank_tag):\n",
    "    if treebank_tag.startswith('J'):\n",
    "        return wordnet.ADJ\n",
    "    elif treebank_tag.startswith('V'):\n",
    "        return wordnet.VERB\n",
    "    elif treebank_tag.startswith('N'):\n",
    "        return wordnet.NOUN\n",
    "    elif treebank_tag.startswith('R'):\n",
    "        return wordnet.ADV\n",
    "    else:\n",
    "        return wordnet.NOUN\n",
    "\n",
    "\n",
    "def normalize_text(text):\n",
    "    word_pos = nltk.pos_tag(nltk.word_tokenize(text))\n",
    "    lemm_words = [lmtzr(sw[0], get_wordnet_pos(sw[1])) for sw in word_pos]\n",
    "\n",
    "    return [x.lower() for x in lemm_words]\n",
    "\n",
    "corpus = [normalize_text(s) for s in descriptions]\n",
    "descriptions = [' '.join(s) for s in corpus]"
   ]
  },
  {
   "cell_type": "markdown",
   "metadata": {},
   "source": [
    "## Removing the stopwords using nltk"
   ]
  },
  {
   "cell_type": "code",
   "execution_count": 3,
   "metadata": {},
   "outputs": [],
   "source": [
    "from nltk.corpus import stopwords\n",
    "\n",
    "new_desc = []\n",
    "\n",
    "for text in descriptions:\n",
    "    new_desc.append(' '.join([word for word in text.split() if word not in stopwords.words(\"english\")]))\n"
   ]
  },
  {
   "cell_type": "markdown",
   "metadata": {},
   "source": [
    "# Removing the numbers from the description feature"
   ]
  },
  {
   "cell_type": "code",
   "execution_count": 4,
   "metadata": {},
   "outputs": [],
   "source": [
    "import re\n",
    "new_desc2 = [re.sub(r'\\b[0-9]+\\b\\s*', '', s) for s in new_desc]\n",
    "new_desc = new_desc2"
   ]
  },
  {
   "cell_type": "markdown",
   "metadata": {},
   "source": [
    "## Using stemming package to stem the words in the descriptions"
   ]
  },
  {
   "cell_type": "code",
   "execution_count": 5,
   "metadata": {},
   "outputs": [],
   "source": [
    "from stemming.porter2 import stem\n",
    "\n",
    "documents = new_desc\n",
    "\n",
    "documents = [[stem(word) for word in sentence.split(\" \")] for sentence in documents]\n",
    "\n",
    "descriptions = [' '.join(a) for a in documents]"
   ]
  },
  {
   "cell_type": "markdown",
   "metadata": {},
   "source": [
    "# Using sklearn to eliminate the stopwords and \"numbers in words\" and learn a CountVectorizer to the dataset"
   ]
  },
  {
   "cell_type": "code",
   "execution_count": 6,
   "metadata": {},
   "outputs": [
    {
     "data": {
      "text/plain": [
       "CountVectorizer(analyzer='word', binary=False, decode_error='strict',\n",
       "                dtype=<class 'numpy.int64'>, encoding='utf-8', input='content',\n",
       "                lowercase=True, max_df=1.0, max_features=None, min_df=1,\n",
       "                ngram_range=(1, 1), preprocessor=None,\n",
       "                stop_words=frozenset({'a', 'about', 'above', 'across', 'after',\n",
       "                                      'afterwards', 'again', 'against', 'all',\n",
       "                                      'almost', 'alone', 'along', 'already',\n",
       "                                      'also', 'although', 'always', 'am',\n",
       "                                      'among', 'amongst', 'amoungst', 'amount',\n",
       "                                      'an', 'and', 'another', 'any', 'anyhow',\n",
       "                                      'anyone', 'anything', 'anyway',\n",
       "                                      'anywhere', ...}),\n",
       "                strip_accents=None, token_pattern='(?u)\\\\b\\\\w\\\\w+\\\\b',\n",
       "                tokenizer=None, vocabulary=None)"
      ]
     },
     "execution_count": 6,
     "metadata": {},
     "output_type": "execute_result"
    }
   ],
   "source": [
    "from sklearn.feature_extraction.text import CountVectorizer\n",
    "from sklearn.feature_extraction import text \n",
    "\n",
    "# Tesla and number 18 should be eliminated. They won't give any useful information.\n",
    "my_additional_stop_words = ['tesla',\n",
    "        \"zero\", \"one\", \"two\", \"three\", \"four\", \"five\", \"six\", \"seven\", \"eight\",\n",
    "        \"nine\", \"ten\", \"eleven\", \"twelve\", \"thirteen\", \"fourteen\", \"fifteen\",\n",
    "        \"sixteen\", \"seventeen\", \"eighteen\", \"nineteen\", \"twenty\", \"thirty\", \"forty\", \"fifty\", \"sixty\", \"seventy\", \"eighty\", \"ninety\", \n",
    "                            \"hundred\", \"thousand\", \"million\", \"billion\", \"trillion\"]\n",
    "stop_words = text.ENGLISH_STOP_WORDS.union(my_additional_stop_words)\n",
    "\n",
    "vect = CountVectorizer(stop_words = stop_words)\n",
    "vect.fit(descriptions)"
   ]
  },
  {
   "cell_type": "markdown",
   "metadata": {},
   "source": [
    "# Making the document-term sparse matrix"
   ]
  },
  {
   "cell_type": "code",
   "execution_count": 7,
   "metadata": {},
   "outputs": [],
   "source": [
    "docterm_matrix = vect.transform(descriptions)"
   ]
  },
  {
   "cell_type": "code",
   "execution_count": 29,
   "metadata": {},
   "outputs": [],
   "source": [
    "# How will the exact textual form of the descriptions change after lemmatisation, stop-word removing, and stemming\n",
    "a = CountVectorizer.inverse_transform(vect, docterm_matrix)\n",
    "d = pd.DataFrame(a)\n",
    "d.to_csv('/home/freeze/CAV/final_terms_description.csv', sep = ',')"
   ]
  },
  {
   "cell_type": "markdown",
   "metadata": {},
   "source": [
    "# Make a csv out of vocabulary in Tesla description to check the vocabulary words before the next steps"
   ]
  },
  {
   "cell_type": "code",
   "execution_count": 8,
   "metadata": {},
   "outputs": [],
   "source": [
    "\n",
    "dic = vect.vocabulary_\n",
    "# Creating your dataframe from your dictionnary\n",
    "df = pd.DataFrame([(k, v) for k, v in dic.items()], columns=['key', 'value'])\n",
    "# Store the data into a csv file\n",
    "df.to_csv('/home/freeze/CAV/tesla_accident_desc_words.csv', sep=',') # indicate the path where to store the csv file"
   ]
  },
  {
   "cell_type": "markdown",
   "metadata": {},
   "source": [
    "# Concatenating other features of the accidents to text vector features"
   ]
  },
  {
   "cell_type": "code",
   "execution_count": 9,
   "metadata": {},
   "outputs": [],
   "source": [
    "import numpy as np\n",
    "\n",
    "other_features_dataset = pd.read_csv('/home/freeze/CAV/other_tesla_accident_features.csv')\n",
    "\n",
    "other_features = other_features_dataset.values\n",
    "\n",
    "docterm = docterm_matrix.todense()\n",
    "\n",
    "final_features = np.hstack((docterm, other_features))\n",
    "\n",
    "#print(final_features.shape)"
   ]
  },
  {
   "cell_type": "markdown",
   "metadata": {},
   "source": [
    "# Clustering with K-Means and searching for the best K using Silhouette method"
   ]
  },
  {
   "cell_type": "markdown",
   "metadata": {},
   "source": [
    "# Plotting the Silhouette vs K"
   ]
  },
  {
   "cell_type": "code",
   "execution_count": 10,
   "metadata": {
    "scrolled": true
   },
   "outputs": [
    {
     "name": "stdout",
     "output_type": "stream",
     "text": [
      "(105, 126)\n"
     ]
    },
    {
     "name": "stderr",
     "output_type": "stream",
     "text": [
      "/home/freeze/anaconda3/lib/python3.7/site-packages/ipykernel_launcher.py:9: ConvergenceWarning: Number of distinct clusters (91) found smaller than n_clusters (92). Possibly due to duplicate points in X.\n",
      "  if __name__ == '__main__':\n",
      "/home/freeze/anaconda3/lib/python3.7/site-packages/ipykernel_launcher.py:9: ConvergenceWarning: Number of distinct clusters (91) found smaller than n_clusters (93). Possibly due to duplicate points in X.\n",
      "  if __name__ == '__main__':\n",
      "/home/freeze/anaconda3/lib/python3.7/site-packages/ipykernel_launcher.py:9: ConvergenceWarning: Number of distinct clusters (91) found smaller than n_clusters (94). Possibly due to duplicate points in X.\n",
      "  if __name__ == '__main__':\n",
      "/home/freeze/anaconda3/lib/python3.7/site-packages/ipykernel_launcher.py:9: ConvergenceWarning: Number of distinct clusters (91) found smaller than n_clusters (95). Possibly due to duplicate points in X.\n",
      "  if __name__ == '__main__':\n",
      "/home/freeze/anaconda3/lib/python3.7/site-packages/ipykernel_launcher.py:9: ConvergenceWarning: Number of distinct clusters (91) found smaller than n_clusters (96). Possibly due to duplicate points in X.\n",
      "  if __name__ == '__main__':\n",
      "/home/freeze/anaconda3/lib/python3.7/site-packages/ipykernel_launcher.py:9: ConvergenceWarning: Number of distinct clusters (91) found smaller than n_clusters (97). Possibly due to duplicate points in X.\n",
      "  if __name__ == '__main__':\n",
      "/home/freeze/anaconda3/lib/python3.7/site-packages/ipykernel_launcher.py:9: ConvergenceWarning: Number of distinct clusters (91) found smaller than n_clusters (98). Possibly due to duplicate points in X.\n",
      "  if __name__ == '__main__':\n",
      "/home/freeze/anaconda3/lib/python3.7/site-packages/ipykernel_launcher.py:9: ConvergenceWarning: Number of distinct clusters (91) found smaller than n_clusters (99). Possibly due to duplicate points in X.\n",
      "  if __name__ == '__main__':\n",
      "/home/freeze/anaconda3/lib/python3.7/site-packages/ipykernel_launcher.py:9: ConvergenceWarning: Number of distinct clusters (91) found smaller than n_clusters (100). Possibly due to duplicate points in X.\n",
      "  if __name__ == '__main__':\n",
      "/home/freeze/anaconda3/lib/python3.7/site-packages/ipykernel_launcher.py:9: ConvergenceWarning: Number of distinct clusters (91) found smaller than n_clusters (101). Possibly due to duplicate points in X.\n",
      "  if __name__ == '__main__':\n",
      "/home/freeze/anaconda3/lib/python3.7/site-packages/ipykernel_launcher.py:9: ConvergenceWarning: Number of distinct clusters (91) found smaller than n_clusters (102). Possibly due to duplicate points in X.\n",
      "  if __name__ == '__main__':\n",
      "/home/freeze/anaconda3/lib/python3.7/site-packages/ipykernel_launcher.py:9: ConvergenceWarning: Number of distinct clusters (91) found smaller than n_clusters (103). Possibly due to duplicate points in X.\n",
      "  if __name__ == '__main__':\n",
      "/home/freeze/anaconda3/lib/python3.7/site-packages/ipykernel_launcher.py:9: ConvergenceWarning: Number of distinct clusters (91) found smaller than n_clusters (104). Possibly due to duplicate points in X.\n",
      "  if __name__ == '__main__':\n",
      "/home/freeze/anaconda3/lib/python3.7/site-packages/ipykernel_launcher.py:9: ConvergenceWarning: Number of distinct clusters (91) found smaller than n_clusters (105). Possibly due to duplicate points in X.\n",
      "  if __name__ == '__main__':\n"
     ]
    }
   ],
   "source": [
    "data = final_features\n",
    "print(data.shape)\n",
    "from sklearn.cluster import KMeans\n",
    "from sklearn.metrics import silhouette_score\n",
    "import numpy as np\n",
    "X = data\n",
    "s = []\n",
    "for i in range(2, 106):\n",
    "    kmeans = KMeans(n_clusters = i, random_state = 0).fit(X)\n",
    "    s.append(silhouette_score(X, kmeans.labels_))\n",
    "# kmeans.labels_\n",
    "\n"
   ]
  },
  {
   "cell_type": "code",
   "execution_count": 11,
   "metadata": {},
   "outputs": [
    {
     "data": {
      "text/plain": [
       "Text(0.5, 0, 'Number of segments')"
      ]
     },
     "execution_count": 11,
     "metadata": {},
     "output_type": "execute_result"
    },
    {
     "data": {
      "image/png": "[encoded data removed]",
      "text/plain": [
       "<Figure size 432x288 with 1 Axes>"
      ]
     },
     "metadata": {
      "needs_background": "light"
     },
     "output_type": "display_data"
    }
   ],
   "source": [
    "import matplotlib.pyplot as mlp\n",
    "mlp.plot(s)\n",
    "mlp.ylabel('Silhouette parameter')\n",
    "mlp.xlabel('Number of segments')"
   ]
  },
  {
   "cell_type": "markdown",
   "metadata": {},
   "source": [
    "# What is the best number of K? "
   ]
  },
  {
   "cell_type": "code",
   "execution_count": 12,
   "metadata": {},
   "outputs": [
    {
     "data": {
      "text/plain": [
       "70"
      ]
     },
     "execution_count": 12,
     "metadata": {},
     "output_type": "execute_result"
    }
   ],
   "source": [
    "np.argmax(s) + 2"
   ]
  },
  {
   "cell_type": "markdown",
   "metadata": {},
   "source": [
    "# Clustering with the best K and saving the results"
   ]
  },
  {
   "cell_type": "code",
   "execution_count": 13,
   "metadata": {},
   "outputs": [],
   "source": [
    "kmeans = KMeans(n_clusters = np.argmax(s) + 2, random_state = 0).fit(X)"
   ]
  },
  {
   "cell_type": "code",
   "execution_count": 14,
   "metadata": {},
   "outputs": [
    {
     "data": {
      "text/plain": [
       "array([17, 60, 42, 39,  7, 27, 61, 20, 51, 16, 47, 26, 12, 38, 24, 43, 31,\n",
       "       64, 10, 11, 11, 13,  2, 10, 22, 24, 29, 48, 16,  0, 37, 16, 48, 34,\n",
       "       64,  1, 14, 28, 54, 31, 16, 14, 38, 40, 41, 25,  6, 15, 36, 32, 19,\n",
       "       35,  2,  3, 67, 63, 57,  5, 15, 62,  8,  4, 23, 58, 18,  1, 46, 69,\n",
       "       36, 33, 59,  4,  3, 10, 49, 37, 37,  1, 44, 60, 30, 55, 65,  3, 68,\n",
       "       16,  9,  1, 29, 56,  6, 38, 53, 50, 18, 66,  1, 45,  8, 45,  3, 52,\n",
       "        5, 59, 21], dtype=int32)"
      ]
     },
     "execution_count": 14,
     "metadata": {},
     "output_type": "execute_result"
    }
   ],
   "source": [
    "kmeans.labels_"
   ]
  },
  {
   "cell_type": "code",
   "execution_count": 15,
   "metadata": {},
   "outputs": [],
   "source": [
    "np.savetxt(\"/home/freeze/CAV/tesla_segment_labels.csv\", kmeans.labels_, delimiter = ',')"
   ]
  },
  {
   "cell_type": "code",
   "execution_count": 16,
   "metadata": {},
   "outputs": [
    {
     "name": "stdout",
     "output_type": "stream",
     "text": [
      "[ 0  1  1  1  1  1  2  2  3  3  3  3  4  4  5  5  6  6  7  8  8  9 10 10\n",
      " 10 11 11 12 13 14 14 15 15 16 16 16 16 16 17 18 18 19 20 21 22 23 24 24\n",
      " 25 26 27 28 29 29 30 31 31 32 33 34 35 36 36 37 37 37 38 38 38 39 40 41\n",
      " 42 43 44 45 45 46 47 48 48 49 50 51 52 53 54 55 56 57 58 59 59 60 60 61\n",
      " 62 63 64 64 65 66 67 68 69]\n"
     ]
    }
   ],
   "source": [
    "x = kmeans.labels_\n",
    "y = np.sort(x)\n",
    "print(y)"
   ]
  },
  {
   "cell_type": "code",
   "execution_count": 17,
   "metadata": {},
   "outputs": [],
   "source": [
    "xx = np.unique(y)"
   ]
  },
  {
   "cell_type": "code",
   "execution_count": 18,
   "metadata": {},
   "outputs": [],
   "source": [
    "yy = np.bincount(y)   "
   ]
  },
  {
   "cell_type": "code",
   "execution_count": 19,
   "metadata": {},
   "outputs": [
    {
     "data": {
      "text/plain": [
       "array([1, 5, 2, 4, 2, 2, 2, 1, 2, 1, 3, 2, 1, 1, 2, 2, 5, 1, 2, 1, 1, 1,\n",
       "       1, 1, 2, 1, 1, 1, 1, 2, 1, 2, 1, 1, 1, 1, 2, 3, 3, 1, 1, 1, 1, 1,\n",
       "       1, 2, 1, 1, 2, 1, 1, 1, 1, 1, 1, 1, 1, 1, 1, 2, 2, 1, 1, 1, 2, 1,\n",
       "       1, 1, 1, 1])"
      ]
     },
     "execution_count": 19,
     "metadata": {},
     "output_type": "execute_result"
    }
   ],
   "source": [
    "yy"
   ]
  },
  {
   "cell_type": "code",
   "execution_count": 20,
   "metadata": {},
   "outputs": [
    {
     "data": {
      "text/plain": [
       "array([ 0,  1,  2,  3,  4,  5,  6,  7,  8,  9, 10, 11, 12, 13, 14, 15, 16,\n",
       "       17, 18, 19, 20, 21, 22, 23, 24, 25, 26, 27, 28, 29, 30, 31, 32, 33,\n",
       "       34, 35, 36, 37, 38, 39, 40, 41, 42, 43, 44, 45, 46, 47, 48, 49, 50,\n",
       "       51, 52, 53, 54, 55, 56, 57, 58, 59, 60, 61, 62, 63, 64, 65, 66, 67,\n",
       "       68, 69], dtype=int32)"
      ]
     },
     "execution_count": 20,
     "metadata": {},
     "output_type": "execute_result"
    }
   ],
   "source": [
    "xx"
   ]
  },
  {
   "cell_type": "code",
   "execution_count": 21,
   "metadata": {},
   "outputs": [
    {
     "data": {
      "text/plain": [
       "Text(50, 2.25, 'Filter Line')"
      ]
     },
     "execution_count": 21,
     "metadata": {},
     "output_type": "execute_result"
    },
    {
     "data": {
      "image/png": "[encoded data removed]",
      "text/plain": [
       "<Figure size 432x288 with 1 Axes>"
      ]
     },
     "metadata": {
      "needs_background": "light"
     },
     "output_type": "display_data"
    }
   ],
   "source": [
    "mlp.bar(xx, height = yy)\n",
    "mlp.xlabel('Cluster Number')\n",
    "mlp.ylabel('Total accidents in each cluster')\n",
    "mlp.axhline(y = 2)\n",
    "mlp.text(50, 2.25, 'Filter Line')"
   ]
  }
 ],
 "metadata": {
  "kernelspec": {
   "display_name": "Python 3",
   "language": "python",
   "name": "python3"
  },
  "language_info": {
   "codemirror_mode": {
    "name": "ipython",
    "version": 3
   },
   "file_extension": ".py",
   "mimetype": "text/x-python",
   "name": "python",
   "nbconvert_exporter": "python",
   "pygments_lexer": "ipython3",
   "version": "3.7.5"
  }
 },
 "nbformat": 4,
 "nbformat_minor": 2
}
